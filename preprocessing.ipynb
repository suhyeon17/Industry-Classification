{
  "cells": [
    {
      "cell_type": "code",
      "execution_count": 1,
      "metadata": {
        "colab": {
          "base_uri": "https://localhost:8080/",
          "height": 0
        },
        "id": "Yzs7N-yAN4c3",
        "outputId": "b2a6baa8-91b4-41e5-f330-fec651256e4e"
      },
      "outputs": [
        {
          "name": "stdout",
          "output_type": "stream",
          "text": [
            "Mounted at /content/drive\n"
          ]
        }
      ],
      "source": [
        "from google.colab import drive\n",
        "drive.mount('/content/drive')"
      ]
    },
    {
      "cell_type": "markdown",
      "metadata": {
        "id": "80vLDT0FtBs1"
      },
      "source": [
        "# install konlpy & mecab"
      ]
    },
    {
      "cell_type": "code",
      "execution_count": null,
      "metadata": {
        "colab": {
          "base_uri": "https://localhost:8080/",
          "height": 0
        },
        "id": "stWZ0x_-tBDE",
        "outputId": "deabd6cf-4b19-4f0b-940d-521a91aa8954"
      },
      "outputs": [],
      "source": [
        "%%bash\n",
        "apt-get update\n",
        "apt-get install g++ openjdk-8-jdk python-dev python3-dev\n",
        "pip3 install JPype1\n",
        "pip3 install konlpy"
      ]
    },
    {
      "cell_type": "code",
      "execution_count": null,
      "metadata": {
        "colab": {
          "base_uri": "https://localhost:8080/",
          "height": 0
        },
        "id": "bH7PybIItVj-",
        "outputId": "6a2e95c9-38a6-4fa0-b2f9-da92b613eaae"
      },
      "outputs": [],
      "source": [
        "%env JAVA_HOME \"/usr/lib/jvm/java-8-openjdk-amd64\""
      ]
    },
    {
      "cell_type": "code",
      "execution_count": null,
      "metadata": {
        "colab": {
          "base_uri": "https://localhost:8080/",
          "height": 0
        },
        "id": "YLSaURmntbjT",
        "outputId": "1d498e33-8d12-456a-9fd9-363c5aeff840"
      },
      "outputs": [],
      "source": [
        "%%bash\n",
        "bash <(curl -s https://raw.githubusercontent.com/konlpy/konlpy/master/scripts/mecab.sh)\n",
        "pip3 install /tmp/mecab-python-0.996"
      ]
    },
    {
      "cell_type": "markdown",
      "metadata": {
        "id": "T6Wmzbl-4HLD"
      },
      "source": [
        "# 라이브러리 불러오기"
      ]
    },
    {
      "cell_type": "code",
      "execution_count": 5,
      "metadata": {
        "id": "B5hjISkGnWZD"
      },
      "outputs": [],
      "source": [
        "import pandas as pd\n",
        "import numpy as np\n",
        "import matplotlib.pyplot as plt\n",
        "import seaborn as sns\n",
        "from collections import Counter #리스트 내 중복 개수 세기\n",
        "from tqdm import tqdm\n",
        "\n",
        "import re\n",
        "from konlpy.tag import Mecab"
      ]
    },
    {
      "cell_type": "markdown",
      "metadata": {
        "id": "SARKUzv0nRwr"
      },
      "source": [
        "#데이터 불러오기"
      ]
    },
    {
      "cell_type": "code",
      "execution_count": 6,
      "metadata": {
        "id": "pxyi0PDynO0G"
      },
      "outputs": [],
      "source": [
        "PATH = '' # PATH 수정하기\n",
        "train = pd.read_csv(PATH + '실습용 자료/1. 실습용자료.txt', sep = '|', engine = 'python', index_col = 'AI_id',  encoding='cp949')\n",
        "test = pd.read_csv(PATH + '2. 모델개발용자료.txt', sep = '|', engine = 'python', index_col = 'AI_id',  encoding='cp949')"
      ]
    },
    {
      "cell_type": "code",
      "execution_count": 7,
      "metadata": {
        "id": "_pmNbRfv2tno"
      },
      "outputs": [],
      "source": [
        "train.fillna('', inplace = True)\n",
        "test.fillna('', inplace = True)"
      ]
    },
    {
      "cell_type": "code",
      "execution_count": 8,
      "metadata": {
        "id": "fZe6hOGs35iw"
      },
      "outputs": [],
      "source": [
        "train['text'] = train['text_obj'] + ' ' + train['text_mthd'] + ' ' + train['text_deal']\n",
        "test['text'] = test['text_obj'] + ' ' + test['text_mthd'] + ' ' + test['text_deal']"
      ]
    },
    {
      "cell_type": "code",
      "execution_count": 9,
      "metadata": {
        "id": "5-VEeFXxTKiA"
      },
      "outputs": [],
      "source": [
        "pattern = '[-=+,#/\\?:^$.@*\\\"※~&%ㆍ!』\\\\‘|\\(\\)\\[\\]\\<\\>`\\'…》ㄱ-ㅎ|ㅏ-ㅣ]+'\n",
        "# 한글자 오타 및 특수문자 제거\n",
        "train['text'] = train['text'].str.replace(pat = pattern, repl = ' ', regex = True)\n",
        "test['text'] = test['text'].str.replace(pat = pattern, repl = ' ', regex = True)\n",
        "#영어 대문자로\n",
        "train['text'] = train['text'].str.upper()\n",
        "test['text'] = test['text'].str.upper()"
      ]
    },
    {
      "cell_type": "markdown",
      "metadata": {
        "id": "mXjb_p6E39mO"
      },
      "source": [
        "# 일반 명사만 저장"
      ]
    },
    {
      "cell_type": "code",
      "execution_count": 10,
      "metadata": {
        "id": "WkdTVXjHhutp"
      },
      "outputs": [],
      "source": [
        "def noun_nng(df, col): \n",
        "    #mecab 불러오기\n",
        "    mecab = Mecab()\n",
        "    \n",
        "    nouns = []\n",
        "    for text in tqdm(df[col]):\n",
        "        noun = mecab.pos(text) #pos 확인\n",
        "        nng = []\n",
        "        for i in range(len(noun)):\n",
        "            if ((noun[i][1]=='NNG') or (noun[i][1]=='NNP') or (noun[i][1]=='NP')): #NNP, NP, NNG인 경우 nouns에 append\n",
        "                nng.append(noun[i][0])\n",
        "        if len(nng) == 0:\n",
        "            nouns.append([text])\n",
        "        else:\n",
        "            nouns.append(nng)\n",
        "    \n",
        "    nounsToStr = [] \n",
        "    for i in range(len(nouns)):\n",
        "        nounsToStr.append(','.join(nouns[i]).replace(',', ' ')) # string 형태로 저장\n",
        "    \n",
        "    nounsToStr = pd.DataFrame(nounsToStr, columns = ['text'])\n",
        "    \n",
        "    return nounsToStr\n"
      ]
    },
    {
      "cell_type": "code",
      "execution_count": 11,
      "metadata": {
        "colab": {
          "base_uri": "https://localhost:8080/",
          "height": 0
        },
        "id": "mnydXyjk50R6",
        "outputId": "24a5fd30-3c2a-493a-a9dd-33e66d714a45"
      },
      "outputs": [
        {
          "name": "stderr",
          "output_type": "stream",
          "text": [
            "100%|██████████| 1000000/1000000 [01:25<00:00, 11748.42it/s]\n"
          ]
        }
      ],
      "source": [
        "X_train = noun_nng(train, 'text')"
      ]
    },
    {
      "cell_type": "code",
      "execution_count": 12,
      "metadata": {
        "colab": {
          "base_uri": "https://localhost:8080/",
          "height": 0
        },
        "id": "7nkCT0BEiJKE",
        "outputId": "9cdb8a1f-e9c0-4994-cd43-4dbee0fc8c0e"
      },
      "outputs": [
        {
          "name": "stderr",
          "output_type": "stream",
          "text": [
            "100%|██████████| 100000/100000 [00:07<00:00, 13174.98it/s]\n"
          ]
        }
      ],
      "source": [
        "X_test = noun_nng(test, 'text')"
      ]
    },
    {
      "cell_type": "code",
      "execution_count": 13,
      "metadata": {
        "id": "HXg13a9uduNW"
      },
      "outputs": [],
      "source": [
        "X_train.index = train.index\n",
        "train['text'] = X_train['text']\n",
        "X_test.index = test.index\n",
        "test['text'] = X_test['text']"
      ]
    },
    {
      "cell_type": "code",
      "execution_count": 14,
      "metadata": {
        "id": "79XAeXSrk2Bo"
      },
      "outputs": [],
      "source": [
        "train.to_csv('train_pre.csv')\n",
        "test.to_csv('test_pre.csv')"
      ]
    }
  ],
  "metadata": {
    "colab": {
      "collapsed_sections": [],
      "name": "2_황수현_최종 전처리 코드 삭제 X 다희",
      "provenance": []
    },
    "kernelspec": {
      "display_name": "Python 3.9.12 ('base')",
      "language": "python",
      "name": "python3"
    },
    "language_info": {
      "name": "python",
      "version": "3.9.12"
    },
    "vscode": {
      "interpreter": {
        "hash": "5fa17995b951f2d30960f1ff4f7dfc17465de279e5e417c1de77224eb6e4ccb3"
      }
    }
  },
  "nbformat": 4,
  "nbformat_minor": 0
}
