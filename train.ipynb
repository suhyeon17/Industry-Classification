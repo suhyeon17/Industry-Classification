{
 "cells": [
  {
   "cell_type": "code",
   "execution_count": null,
   "metadata": {
    "colab": {
     "base_uri": "https://localhost:8080/"
    },
    "id": "LkngUAu173hH",
    "outputId": "f374f1fd-a75b-4b50-eedf-e7f02de6f83e"
   },
   "outputs": [
    {
     "name": "stdout",
     "output_type": "stream",
     "text": [
      "Mounted at /content/drive\n"
     ]
    }
   ],
   "source": [
    "from google.colab import drive\n",
    "drive.mount('/content/drive')"
   ]
  },
  {
   "cell_type": "markdown",
   "metadata": {
    "id": "W8fOybS28GR3"
   },
   "source": [
    "# 필요한 라이브러리"
   ]
  },
  {
   "cell_type": "code",
   "execution_count": null,
   "metadata": {
    "id": "_GzzHkXs8FO5"
   },
   "outputs": [],
   "source": [
    "import pandas as pd\n",
    "import numpy as np\n",
    "import matplotlib.pyplot as plt\n",
    "\n",
    "import os\n",
    "import json\n",
    "from tqdm import tqdm\n",
    "\n",
    "from sklearn.preprocessing import LabelEncoder\n",
    "from sklearn.model_selection import StratifiedKFold\n",
    "\n",
    "import tensorflow as tf\n",
    "from tensorflow.keras.preprocessing.text import Tokenizer\n",
    "from tensorflow.keras.preprocessing.sequence import pad_sequences\n",
    "from tensorflow.keras.utils import to_categorical\n",
    "from tensorflow.keras.callbacks import EarlyStopping, ModelCheckpoint\n",
    "from tensorflow.keras import layers\n",
    "from tensorflow.keras.layers import Dense, Embedding, LSTM, Dropout, Bidirectional"
   ]
  },
  {
   "cell_type": "markdown",
   "metadata": {
    "id": "QhqgPBAVRo2V"
   },
   "source": [
    "# GPU"
   ]
  },
  {
   "cell_type": "code",
   "execution_count": null,
   "metadata": {
    "colab": {
     "base_uri": "https://localhost:8080/"
    },
    "id": "g4ZnnuTTRoNu",
    "outputId": "36b686c7-1c76-42a9-9b6c-d40a6a1ee1bc"
   },
   "outputs": [
    {
     "name": "stdout",
     "output_type": "stream",
     "text": [
      "Found GPU at: /device:GPU:0\n"
     ]
    }
   ],
   "source": [
    "%tensorflow_version 2.x\n",
    "device_name = tf.test.gpu_device_name()\n",
    "if device_name != '/device:GPU:0':\n",
    "  raise SystemError('GPU device not found')\n",
    "print('Found GPU at: {}'.format(device_name))"
   ]
  },
  {
   "cell_type": "markdown",
   "metadata": {
    "id": "Rw2dO3FQ9cB3"
   },
   "source": [
    "# 데이터 불러오기"
   ]
  },
  {
   "cell_type": "code",
   "execution_count": null,
   "metadata": {
    "id": "4pO9vbTi9bNn"
   },
   "outputs": [],
   "source": [
    "path = '' # PATH 수정\n",
    "\n",
    "train = pd.read_csv(path + 'train_pre.csv',  engine = 'python', index_col = 'AI_id')\n",
    "test = pd.read_csv(path + 'test_pre.csv',  engine = 'python', index_col = 'AI_id')"
   ]
  },
  {
   "cell_type": "code",
   "execution_count": null,
   "metadata": {
    "id": "LB17iLgWG9tL"
   },
   "outputs": [],
   "source": [
    "train['label'] = train['digit_1'] + ' ' + train['digit_2'].astype(str) + ' ' + train['digit_3'].astype(str)"
   ]
  },
  {
   "cell_type": "code",
   "execution_count": null,
   "metadata": {
    "colab": {
     "base_uri": "https://localhost:8080/",
     "height": 455
    },
    "id": "TWi4Q72c1deH",
    "outputId": "88156f80-26c6-461b-ffe8-adeaf81713df"
   },
   "outputs": [
    {
     "data": {
      "text/html": [
       "\n",
       "  <div id=\"df-a05ec45d-95da-4e0c-8b1a-9bb74ff31c9c\">\n",
       "    <div class=\"colab-df-container\">\n",
       "      <div>\n",
       "<style scoped>\n",
       "    .dataframe tbody tr th:only-of-type {\n",
       "        vertical-align: middle;\n",
       "    }\n",
       "\n",
       "    .dataframe tbody tr th {\n",
       "        vertical-align: top;\n",
       "    }\n",
       "\n",
       "    .dataframe thead th {\n",
       "        text-align: right;\n",
       "    }\n",
       "</style>\n",
       "<table border=\"1\" class=\"dataframe\">\n",
       "  <thead>\n",
       "    <tr style=\"text-align: right;\">\n",
       "      <th></th>\n",
       "      <th>digit_1</th>\n",
       "      <th>digit_2</th>\n",
       "      <th>digit_3</th>\n",
       "      <th>text_obj</th>\n",
       "      <th>text_mthd</th>\n",
       "      <th>text_deal</th>\n",
       "      <th>text</th>\n",
       "      <th>label</th>\n",
       "    </tr>\n",
       "    <tr>\n",
       "      <th>AI_id</th>\n",
       "      <th></th>\n",
       "      <th></th>\n",
       "      <th></th>\n",
       "      <th></th>\n",
       "      <th></th>\n",
       "      <th></th>\n",
       "      <th></th>\n",
       "      <th></th>\n",
       "    </tr>\n",
       "  </thead>\n",
       "  <tbody>\n",
       "    <tr>\n",
       "      <th>id_0000001</th>\n",
       "      <td>S</td>\n",
       "      <td>95</td>\n",
       "      <td>952</td>\n",
       "      <td>카센터에서</td>\n",
       "      <td>자동차부분정비</td>\n",
       "      <td>타이어오일교환</td>\n",
       "      <td>카센터 자동차 부분 정비 타이어 교환</td>\n",
       "      <td>S 95 952</td>\n",
       "    </tr>\n",
       "    <tr>\n",
       "      <th>id_0000002</th>\n",
       "      <td>G</td>\n",
       "      <td>47</td>\n",
       "      <td>472</td>\n",
       "      <td>상점내에서</td>\n",
       "      <td>일반인을 대상으로</td>\n",
       "      <td>채소.과일판매</td>\n",
       "      <td>상점 일반인 대상 채소 과일 판매</td>\n",
       "      <td>G 47 472</td>\n",
       "    </tr>\n",
       "    <tr>\n",
       "      <th>id_0000003</th>\n",
       "      <td>G</td>\n",
       "      <td>46</td>\n",
       "      <td>467</td>\n",
       "      <td>절단하여사업체에도매</td>\n",
       "      <td>공업용고무를가지고</td>\n",
       "      <td>합성고무도매</td>\n",
       "      <td>절단 사업체 도매 공업 고무 합성 고무 도매</td>\n",
       "      <td>G 46 467</td>\n",
       "    </tr>\n",
       "    <tr>\n",
       "      <th>id_0000004</th>\n",
       "      <td>G</td>\n",
       "      <td>47</td>\n",
       "      <td>475</td>\n",
       "      <td>영업점에서</td>\n",
       "      <td>일반소비자에게</td>\n",
       "      <td>열쇠잠금장치</td>\n",
       "      <td>영업 점 일반 소비자 열쇠 잠금장치</td>\n",
       "      <td>G 47 475</td>\n",
       "    </tr>\n",
       "    <tr>\n",
       "      <th>id_0000005</th>\n",
       "      <td>Q</td>\n",
       "      <td>87</td>\n",
       "      <td>872</td>\n",
       "      <td>어린이집</td>\n",
       "      <td>보호자의 위탁을 받아</td>\n",
       "      <td>취학전아동보육</td>\n",
       "      <td>어린이집 보호자 위탁 취학전 아동 보육</td>\n",
       "      <td>Q 87 872</td>\n",
       "    </tr>\n",
       "    <tr>\n",
       "      <th>...</th>\n",
       "      <td>...</td>\n",
       "      <td>...</td>\n",
       "      <td>...</td>\n",
       "      <td>...</td>\n",
       "      <td>...</td>\n",
       "      <td>...</td>\n",
       "      <td>...</td>\n",
       "      <td>...</td>\n",
       "    </tr>\n",
       "    <tr>\n",
       "      <th>id_0999996</th>\n",
       "      <td>C</td>\n",
       "      <td>13</td>\n",
       "      <td>134</td>\n",
       "      <td>제품입고</td>\n",
       "      <td>워싱</td>\n",
       "      <td>청바지워싱</td>\n",
       "      <td>제품 워싱 청바지 워싱</td>\n",
       "      <td>C 13 134</td>\n",
       "    </tr>\n",
       "    <tr>\n",
       "      <th>id_0999997</th>\n",
       "      <td>F</td>\n",
       "      <td>42</td>\n",
       "      <td>424</td>\n",
       "      <td>현장에서</td>\n",
       "      <td>고객의요청에의해</td>\n",
       "      <td>실내인테리어</td>\n",
       "      <td>현장 고객 요청 실내 인테리어</td>\n",
       "      <td>F 42 424</td>\n",
       "    </tr>\n",
       "    <tr>\n",
       "      <th>id_0999998</th>\n",
       "      <td>G</td>\n",
       "      <td>47</td>\n",
       "      <td>474</td>\n",
       "      <td>영업점에서</td>\n",
       "      <td>일반소비자에게</td>\n",
       "      <td>여성의류 판매</td>\n",
       "      <td>영업 점 일반 소비자 여성 의류 판매</td>\n",
       "      <td>G 47 474</td>\n",
       "    </tr>\n",
       "    <tr>\n",
       "      <th>id_0999999</th>\n",
       "      <td>P</td>\n",
       "      <td>85</td>\n",
       "      <td>856</td>\n",
       "      <td>사업장에서</td>\n",
       "      <td>일반고객을대상으로</td>\n",
       "      <td>필라테스</td>\n",
       "      <td>사업장 일반 고객 대상 필라테스</td>\n",
       "      <td>P 85 856</td>\n",
       "    </tr>\n",
       "    <tr>\n",
       "      <th>id_1000000</th>\n",
       "      <td>I</td>\n",
       "      <td>56</td>\n",
       "      <td>561</td>\n",
       "      <td>사업장에서</td>\n",
       "      <td>접객시설을 갖추고</td>\n",
       "      <td>한식(미역구)판매</td>\n",
       "      <td>사업장 접객 시설 한식 미 역구 판매</td>\n",
       "      <td>I 56 561</td>\n",
       "    </tr>\n",
       "  </tbody>\n",
       "</table>\n",
       "<p>1000000 rows × 8 columns</p>\n",
       "</div>\n",
       "      <button class=\"colab-df-convert\" onclick=\"convertToInteractive('df-a05ec45d-95da-4e0c-8b1a-9bb74ff31c9c')\"\n",
       "              title=\"Convert this dataframe to an interactive table.\"\n",
       "              style=\"display:none;\">\n",
       "        \n",
       "  <svg xmlns=\"http://www.w3.org/2000/svg\" height=\"24px\"viewBox=\"0 0 24 24\"\n",
       "       width=\"24px\">\n",
       "    <path d=\"M0 0h24v24H0V0z\" fill=\"none\"/>\n",
       "    <path d=\"M18.56 5.44l.94 2.06.94-2.06 2.06-.94-2.06-.94-.94-2.06-.94 2.06-2.06.94zm-11 1L8.5 8.5l.94-2.06 2.06-.94-2.06-.94L8.5 2.5l-.94 2.06-2.06.94zm10 10l.94 2.06.94-2.06 2.06-.94-2.06-.94-.94-2.06-.94 2.06-2.06.94z\"/><path d=\"M17.41 7.96l-1.37-1.37c-.4-.4-.92-.59-1.43-.59-.52 0-1.04.2-1.43.59L10.3 9.45l-7.72 7.72c-.78.78-.78 2.05 0 2.83L4 21.41c.39.39.9.59 1.41.59.51 0 1.02-.2 1.41-.59l7.78-7.78 2.81-2.81c.8-.78.8-2.07 0-2.86zM5.41 20L4 18.59l7.72-7.72 1.47 1.35L5.41 20z\"/>\n",
       "  </svg>\n",
       "      </button>\n",
       "      \n",
       "  <style>\n",
       "    .colab-df-container {\n",
       "      display:flex;\n",
       "      flex-wrap:wrap;\n",
       "      gap: 12px;\n",
       "    }\n",
       "\n",
       "    .colab-df-convert {\n",
       "      background-color: #E8F0FE;\n",
       "      border: none;\n",
       "      border-radius: 50%;\n",
       "      cursor: pointer;\n",
       "      display: none;\n",
       "      fill: #1967D2;\n",
       "      height: 32px;\n",
       "      padding: 0 0 0 0;\n",
       "      width: 32px;\n",
       "    }\n",
       "\n",
       "    .colab-df-convert:hover {\n",
       "      background-color: #E2EBFA;\n",
       "      box-shadow: 0px 1px 2px rgba(60, 64, 67, 0.3), 0px 1px 3px 1px rgba(60, 64, 67, 0.15);\n",
       "      fill: #174EA6;\n",
       "    }\n",
       "\n",
       "    [theme=dark] .colab-df-convert {\n",
       "      background-color: #3B4455;\n",
       "      fill: #D2E3FC;\n",
       "    }\n",
       "\n",
       "    [theme=dark] .colab-df-convert:hover {\n",
       "      background-color: #434B5C;\n",
       "      box-shadow: 0px 1px 3px 1px rgba(0, 0, 0, 0.15);\n",
       "      filter: drop-shadow(0px 1px 2px rgba(0, 0, 0, 0.3));\n",
       "      fill: #FFFFFF;\n",
       "    }\n",
       "  </style>\n",
       "\n",
       "      <script>\n",
       "        const buttonEl =\n",
       "          document.querySelector('#df-a05ec45d-95da-4e0c-8b1a-9bb74ff31c9c button.colab-df-convert');\n",
       "        buttonEl.style.display =\n",
       "          google.colab.kernel.accessAllowed ? 'block' : 'none';\n",
       "\n",
       "        async function convertToInteractive(key) {\n",
       "          const element = document.querySelector('#df-a05ec45d-95da-4e0c-8b1a-9bb74ff31c9c');\n",
       "          const dataTable =\n",
       "            await google.colab.kernel.invokeFunction('convertToInteractive',\n",
       "                                                     [key], {});\n",
       "          if (!dataTable) return;\n",
       "\n",
       "          const docLinkHtml = 'Like what you see? Visit the ' +\n",
       "            '<a target=\"_blank\" href=https://colab.research.google.com/notebooks/data_table.ipynb>data table notebook</a>'\n",
       "            + ' to learn more about interactive tables.';\n",
       "          element.innerHTML = '';\n",
       "          dataTable['output_type'] = 'display_data';\n",
       "          await google.colab.output.renderOutput(dataTable, element);\n",
       "          const docLink = document.createElement('div');\n",
       "          docLink.innerHTML = docLinkHtml;\n",
       "          element.appendChild(docLink);\n",
       "        }\n",
       "      </script>\n",
       "    </div>\n",
       "  </div>\n",
       "  "
      ],
      "text/plain": [
       "           digit_1  digit_2  digit_3    text_obj    text_mthd  text_deal  \\\n",
       "AI_id                                                                      \n",
       "id_0000001       S       95      952       카센터에서      자동차부분정비    타이어오일교환   \n",
       "id_0000002       G       47      472       상점내에서    일반인을 대상으로    채소.과일판매   \n",
       "id_0000003       G       46      467  절단하여사업체에도매    공업용고무를가지고     합성고무도매   \n",
       "id_0000004       G       47      475       영업점에서      일반소비자에게     열쇠잠금장치   \n",
       "id_0000005       Q       87      872        어린이집  보호자의 위탁을 받아    취학전아동보육   \n",
       "...            ...      ...      ...         ...          ...        ...   \n",
       "id_0999996       C       13      134        제품입고           워싱      청바지워싱   \n",
       "id_0999997       F       42      424        현장에서     고객의요청에의해     실내인테리어   \n",
       "id_0999998       G       47      474       영업점에서      일반소비자에게    여성의류 판매   \n",
       "id_0999999       P       85      856       사업장에서    일반고객을대상으로       필라테스   \n",
       "id_1000000       I       56      561       사업장에서    접객시설을 갖추고  한식(미역구)판매   \n",
       "\n",
       "                                text     label  \n",
       "AI_id                                           \n",
       "id_0000001      카센터 자동차 부분 정비 타이어 교환  S 95 952  \n",
       "id_0000002        상점 일반인 대상 채소 과일 판매  G 47 472  \n",
       "id_0000003  절단 사업체 도매 공업 고무 합성 고무 도매  G 46 467  \n",
       "id_0000004       영업 점 일반 소비자 열쇠 잠금장치  G 47 475  \n",
       "id_0000005     어린이집 보호자 위탁 취학전 아동 보육  Q 87 872  \n",
       "...                              ...       ...  \n",
       "id_0999996              제품 워싱 청바지 워싱  C 13 134  \n",
       "id_0999997          현장 고객 요청 실내 인테리어  F 42 424  \n",
       "id_0999998      영업 점 일반 소비자 여성 의류 판매  G 47 474  \n",
       "id_0999999         사업장 일반 고객 대상 필라테스  P 85 856  \n",
       "id_1000000      사업장 접객 시설 한식 미 역구 판매  I 56 561  \n",
       "\n",
       "[1000000 rows x 8 columns]"
      ]
     },
     "execution_count": 8,
     "metadata": {},
     "output_type": "execute_result"
    }
   ],
   "source": [
    "train"
   ]
  },
  {
   "cell_type": "markdown",
   "metadata": {
    "id": "8qSVamhiYR23"
   },
   "source": [
    "# 시드 고정"
   ]
  },
  {
   "cell_type": "code",
   "execution_count": null,
   "metadata": {
    "id": "7ncMEsFXYQEz"
   },
   "outputs": [],
   "source": [
    "# 랜덤 시드 고정\n",
    "SEED_NUM = 1234\n",
    "tf.random.set_seed(SEED_NUM)"
   ]
  },
  {
   "cell_type": "markdown",
   "metadata": {
    "id": "lCpzzv6vJ8PP"
   },
   "source": [
    "# 모델 정의"
   ]
  },
  {
   "cell_type": "code",
   "execution_count": null,
   "metadata": {
    "id": "RBWFabCQNpOB"
   },
   "outputs": [],
   "source": [
    "class RNNClassifier(tf.keras.Model):\n",
    "    def __init__(self, **kargs):\n",
    "        super(RNNClassifier, self).__init__(name=kargs['model_name'])\n",
    "        #고차원을 저차원으로 축소\n",
    "        self.embedding = layers.Embedding(input_dim=kargs['vocab_size'], output_dim=kargs['embedding_dimension'])\n",
    "        #lstm layer를 2개 이상 쌓기 위해서는 앞의 output이 sequence 형태여야함\n",
    "        self.Bilstm_1_layer = tf.keras.layers.Bidirectional(LSTM(kargs['lstm_dimension'], return_sequences=True))\n",
    "        self.Bilstm_2_layer = tf.keras.layers.Bidirectional(LSTM(kargs['lstm_dimension'], return_sequences=True))\n",
    "        self.Bilstm_3_layer = tf.keras.layers.Bidirectional(LSTM(int(kargs['lstm_dimension']/2)))\n",
    "        self.dropout = layers.Dropout(kargs['dropout_rate'])#과적합 방지를 위한 dropout\n",
    "        #피드 포워드 네트워크를 거치도록 dense layer 추가, 출력 차원의 수가 dense_dimension이 됨\n",
    "        #피드 포워드란 이전 층에서 나오느 출력값이 층과 층 사이에서 적용되는 가중치의 영향을 받은 다음 다음층의 입력값을 들어가는 것 \n",
    "        self.fc1 = layers.Dense(units=kargs['dense_dimension'], activation=tf.keras.activations.tanh)\n",
    "        #출력차원이 225차원이므로 전 레이어의 유닛의 개수는 225보다 커야 병목현상이 발생하지 않음\n",
    "        self.fc2 = layers.Dense(units=kargs['output_dimension'],activation=tf.keras.activations.softmax)\n",
    "    \n",
    "    def call(self, x):\n",
    "        x = self.embedding(x)\n",
    "        x = self.dropout(x)\n",
    "        x = self.Bilstm_1_layer(x)\n",
    "        x = self.Bilstm_2_layer(x)\n",
    "        x = self.Bilstm_3_layer(x)\n",
    "        x = self.dropout(x)\n",
    "        x = self.fc1(x)\n",
    "        x = self.dropout(x)\n",
    "        x = self.fc2(x)\n",
    "        return x"
   ]
  },
  {
   "cell_type": "markdown",
   "metadata": {
    "id": "o_V6YD7qI8m0"
   },
   "source": [
    "# label 예측"
   ]
  },
  {
   "cell_type": "markdown",
   "metadata": {
    "id": "VM9JOwFIKvH6"
   },
   "source": [
    "* feature, target 정의"
   ]
  },
  {
   "cell_type": "code",
   "execution_count": null,
   "metadata": {
    "id": "cQ1_L7oTYWI7"
   },
   "outputs": [],
   "source": [
    "X_train = train['text']\n",
    "y_train = train['label']\n",
    "X_test = test['text']"
   ]
  },
  {
   "cell_type": "markdown",
   "metadata": {
    "id": "DAVBzg2_VYkW"
   },
   "source": [
    "* 토큰화 및 정수 인코딩\n",
    "    -  Tokenizer 는 데이터에 출현하는 모든 단어의 개수를 세고 빈도 수로 정렬해서 \n",
    "    - num_words 에 지정된 만큼만 숫자로 반환하고, 나머지는 0 으로 반환합니다      "
   ]
  },
  {
   "cell_type": "code",
   "execution_count": null,
   "metadata": {
    "id": "TJe-ksswQrFQ"
   },
   "outputs": [],
   "source": [
    "tokenizer = Tokenizer()\n",
    "tokenizer.fit_on_texts(X_train)"
   ]
  },
  {
   "cell_type": "code",
   "execution_count": null,
   "metadata": {
    "colab": {
     "base_uri": "https://localhost:8080/"
    },
    "id": "h6EgQKReUq9g",
    "outputId": "e91c0171-62ce-4111-d7f7-4cdb2d64a7f1"
   },
   "outputs": [],
   "source": [
    "word_to_index = tokenizer.word_index\n",
    "\n",
    "print(word_to_index)\n",
    "print('단어의 개수: ', len(word_to_index))"
   ]
  },
  {
   "cell_type": "code",
   "execution_count": null,
   "metadata": {
    "colab": {
     "base_uri": "https://localhost:8080/"
    },
    "id": "DL2UqFqQ3jsI",
    "outputId": "9698d50c-73c4-4865-e4d0-8184415c4c3a"
   },
   "outputs": [
    {
     "name": "stdout",
     "output_type": "stream",
     "text": [
      "단어 집합(vocabulary)의 크기 : 30262\n",
      "등장 빈도가 2번 이하인 희귀 단어의 수: 15133\n",
      "단어 집합에서 희귀 단어의 비율: 50.006608948516295\n",
      "전체 등장 빈도에서 희귀 단어 등장 빈도 비율: 0.32658770738781134\n"
     ]
    }
   ],
   "source": [
    "threshold = 3\n",
    "total_cnt = len(tokenizer.word_index) # 단어의 수 = 30262개\n",
    "rare_cnt = 0 # 등장 빈도수가 threshold보다 작은 단어의 개수를 카운트\n",
    "total_freq = 0 # 훈련 데이터의 전체 단어 빈도수 총 합\n",
    "rare_freq = 0 # 등장 빈도수가 threshold보다 작은 단어의 등장 빈도수의 총 합\n",
    "\n",
    "# 단어와 빈도수의 쌍(pair)을 key와 value로 받는다.\n",
    "for key, value in tokenizer.word_counts.items():\n",
    "    total_freq = total_freq + value \n",
    "\n",
    "    # 단어의 등장 빈도수가 threshold보다 작으면\n",
    "    if(value < threshold):\n",
    "        rare_cnt = rare_cnt + 1 # 카운트\n",
    "        rare_freq = rare_freq + value\n",
    "\n",
    "print('단어 집합(vocabulary)의 크기 :',total_cnt)\n",
    "print('등장 빈도가 %s번 이하인 희귀 단어의 수: %s'%(threshold - 1, rare_cnt))\n",
    "print(\"단어 집합에서 희귀 단어의 비율:\", (rare_cnt / total_cnt)*100)\n",
    "print(\"전체 등장 빈도에서 희귀 단어 등장 빈도 비율:\", (rare_freq / total_freq)*100)"
   ]
  },
  {
   "cell_type": "markdown",
   "metadata": {
    "id": "9b_Eh43Y8lPz"
   },
   "source": [
    "* 등장 빈도가 2번 이하인 희귀 단어는 제거하고 사용"
   ]
  },
  {
   "cell_type": "code",
   "execution_count": null,
   "metadata": {
    "colab": {
     "base_uri": "https://localhost:8080/"
    },
    "id": "3T5gfPfy4B_n",
    "outputId": "5f424748-d572-474b-e71e-63e8eff2aa79"
   },
   "outputs": [
    {
     "name": "stdout",
     "output_type": "stream",
     "text": [
      "단어 집합의 크기 : 15130\n"
     ]
    }
   ],
   "source": [
    "vocab_size = total_cnt - rare_cnt + 1\n",
    "print('단어 집합의 크기 :',vocab_size)"
   ]
  },
  {
   "cell_type": "code",
   "execution_count": null,
   "metadata": {
    "id": "pPo-OhlH7WS0"
   },
   "outputs": [],
   "source": [
    "tokenizer = Tokenizer(vocab_size)\n",
    "tokenizer.fit_on_texts(X_train)\n",
    "\n",
    "X_train = tokenizer.texts_to_sequences(X_train)\n",
    "X_test = tokenizer.texts_to_sequences(X_test)"
   ]
  },
  {
   "cell_type": "markdown",
   "metadata": {
    "id": "xX0WQbdB8sHd"
   },
   "source": [
    "* train에서 등장빈도가 2회 이하인 희귀 단어로만 구성된 행 제거 = 빈 행"
   ]
  },
  {
   "cell_type": "code",
   "execution_count": null,
   "metadata": {
    "id": "iXmNtq514sJy"
   },
   "outputs": [],
   "source": [
    "drop_train = [index for index, sentence in enumerate(X_train) if len(sentence) < 1]"
   ]
  },
  {
   "cell_type": "code",
   "execution_count": null,
   "metadata": {
    "colab": {
     "base_uri": "https://localhost:8080/"
    },
    "id": "KnMmd0rp8_oo",
    "outputId": "c6202baa-c3b7-4c15-cc8d-a409fbd1dcd8"
   },
   "outputs": [
    {
     "name": "stdout",
     "output_type": "stream",
     "text": [
      "X_train 크기:  999916\n",
      "y_train 크기:  999916\n"
     ]
    },
    {
     "name": "stderr",
     "output_type": "stream",
     "text": [
      "/usr/local/lib/python3.7/dist-packages/numpy/lib/function_base.py:4454: VisibleDeprecationWarning: Creating an ndarray from ragged nested sequences (which is a list-or-tuple of lists-or-tuples-or ndarrays with different lengths or shapes) is deprecated. If you meant to do this, you must specify 'dtype=object' when creating the ndarray.\n",
      "  arr = asarray(arr)\n"
     ]
    }
   ],
   "source": [
    "X_train = np.delete(X_train, drop_train, axis=0)\n",
    "y_train = np.delete(np.array(y_train), drop_train, axis=0)\n",
    "print('X_train 크기: ', len(X_train))\n",
    "print('y_train 크기: ', len(y_train))"
   ]
  },
  {
   "cell_type": "code",
   "execution_count": null,
   "metadata": {
    "colab": {
     "base_uri": "https://localhost:8080/"
    },
    "id": "FG7dJh5wV54m",
    "outputId": "8d42000e-69b4-47fa-ef22-f240d3d56231"
   },
   "outputs": [
    {
     "name": "stdout",
     "output_type": "stream",
     "text": [
      "train 문장 최대 길이 :26\n",
      "train 문장 평균 길이 :5.829131647058353\n",
      "test 문장 최대 길이 :23\n",
      "test 문장 평균 길이 :6.0263\n"
     ]
    }
   ],
   "source": [
    "print('train 문장 최대 길이 :{}'.format(max(len(l) for l in X_train)))\n",
    "print('train 문장 평균 길이 :{}'.format(sum(map(len, X_train))/len(X_train)))\n",
    "print('test 문장 최대 길이 :{}'.format(max(len(l) for l in X_test)))\n",
    "print('test 문장 평균 길이 :{}'.format(sum(map(len, X_test))/len(X_test)))"
   ]
  },
  {
   "cell_type": "markdown",
   "metadata": {
    "id": "68Wi5Y5cayyK"
   },
   "source": [
    "* pad sequence: 전체 단어 길이 맞춰 주기 -> 전체 길이 보다 짧으면 0으로 채워줌\n",
    "    - maxlen: 최대 문장 길이\n",
    "    - truncating: 문장의 길이가 maxlen보다 길 때 앞을 자를지\n",
    "    - 0을 채워줄 문장 위치"
   ]
  },
  {
   "cell_type": "code",
   "execution_count": null,
   "metadata": {
    "colab": {
     "base_uri": "https://localhost:8080/"
    },
    "id": "rlcz4lzcaszh",
    "outputId": "d1d7015c-e910-47bf-eba1-61e596af1212"
   },
   "outputs": [
    {
     "name": "stdout",
     "output_type": "stream",
     "text": [
      "(999916, 26)\n",
      "(100000, 26)\n"
     ]
    }
   ],
   "source": [
    "max_len = max(len(l) for l in X_train)\n",
    "\n",
    "X_train = pad_sequences(X_train, maxlen = max_len)\n",
    "X_test = pad_sequences(X_test, maxlen = max_len)\n",
    "\n",
    "print(X_train.shape)\n",
    "print(X_test.shape)"
   ]
  },
  {
   "cell_type": "code",
   "execution_count": null,
   "metadata": {
    "colab": {
     "base_uri": "https://localhost:8080/"
    },
    "id": "o1c9Mob6cIol",
    "outputId": "d9e19122-332a-4d55-b65e-8128940f6736"
   },
   "outputs": [
    {
     "data": {
      "text/plain": [
       "array([[   0,    0,    0, ...,    3,  130,    8],\n",
       "       [   0,    0,    0, ...,   37,  249, 1279],\n",
       "       [   0,    0,    0, ...,  259,  278,   51],\n",
       "       ...,\n",
       "       [   0,    0,    0, ...,   10, 1274,    8],\n",
       "       [   0,    0,    0, ...,  564, 1004,   16],\n",
       "       [   0,    0,    0, ..., 2082,   81,   29]], dtype=int32)"
      ]
     },
     "execution_count": 21,
     "metadata": {},
     "output_type": "execute_result"
    }
   ],
   "source": [
    "X_test"
   ]
  },
  {
   "cell_type": "code",
   "execution_count": null,
   "metadata": {
    "id": "vo0jiIhzg_8k"
   },
   "outputs": [],
   "source": [
    "le = LabelEncoder()\n",
    "\n",
    "y_train = le.fit_transform(y_train)\n",
    "y_train = to_categorical(y_train) "
   ]
  },
  {
   "cell_type": "code",
   "execution_count": null,
   "metadata": {
    "colab": {
     "base_uri": "https://localhost:8080/"
    },
    "id": "w3Zz2FN9kjVc",
    "outputId": "3b347c66-a0ff-4d81-9ede-a5194623aee4"
   },
   "outputs": [
    {
     "name": "stdout",
     "output_type": "stream",
     "text": [
      "(999916, 225)\n",
      "[[0. 0. 0. ... 0. 0. 0.]\n",
      " [0. 0. 0. ... 0. 0. 0.]\n",
      " [0. 0. 0. ... 0. 0. 0.]\n",
      " ...\n",
      " [0. 0. 0. ... 0. 0. 0.]\n",
      " [0. 0. 0. ... 0. 0. 0.]\n",
      " [0. 0. 0. ... 0. 0. 0.]]\n"
     ]
    }
   ],
   "source": [
    "print(y_train.shape)\n",
    "print(y_train)"
   ]
  },
  {
   "cell_type": "markdown",
   "metadata": {
    "id": "xAndgye1klD-"
   },
   "source": [
    "* 모델 생성 및 학습"
   ]
  },
  {
   "cell_type": "code",
   "execution_count": null,
   "metadata": {
    "id": "7ynHq42ACvnK"
   },
   "outputs": [],
   "source": [
    "model_name = 'rnn_classifier_en'\n",
    "BATCH_SIZE = 64\n",
    "NUM_EPOCHS = 10\n",
    "MAX_LEN = max_len\n",
    "\n",
    "kargs = {'model_name': model_name,\n",
    "        'vocab_size': vocab_size+1,\n",
    "        'embedding_dimension': 512,\n",
    "        'dropout_rate': 0.5,\n",
    "        'lstm_dimension': 512,\n",
    "        'dense_dimension': 512,\n",
    "        'output_dimension':y_train.shape[1]}"
   ]
  },
  {
   "cell_type": "markdown",
   "metadata": {
    "id": "Qf69Rd1rbAAv"
   },
   "source": [
    "# Straitified K_fold"
   ]
  },
  {
   "cell_type": "code",
   "execution_count": null,
   "metadata": {
    "colab": {
     "base_uri": "https://localhost:8080/"
    },
    "id": "MiCVaj4u6bsj",
    "outputId": "2789f848-015b-4652-b971-33479195145a"
   },
   "outputs": [
    {
     "name": "stderr",
     "output_type": "stream",
     "text": [
      "/usr/local/lib/python3.7/dist-packages/sklearn/model_selection/_split.py:680: UserWarning: The least populated class in y has only 1 members, which is less than n_splits=5.\n",
      "  UserWarning,\n"
     ]
    },
    {
     "name": "stdout",
     "output_type": "stream",
     "text": [
      "######### 1번째 fold ########\n",
      "Epoch 1/10\n",
      "12499/12499 [==============================] - 612s 48ms/step - loss: 0.6743 - acc: 0.8387 - val_loss: 0.4022 - val_acc: 0.9005\n",
      "Epoch 2/10\n",
      "12499/12499 [==============================] - 598s 48ms/step - loss: 0.4096 - acc: 0.8993 - val_loss: 0.3676 - val_acc: 0.9096\n",
      "Epoch 3/10\n",
      "12499/12499 [==============================] - 597s 48ms/step - loss: 0.3571 - acc: 0.9109 - val_loss: 0.3478 - val_acc: 0.9128\n",
      "Epoch 4/10\n",
      "12499/12499 [==============================] - 596s 48ms/step - loss: 0.3259 - acc: 0.9175 - val_loss: 0.3445 - val_acc: 0.9150\n",
      "Epoch 5/10\n",
      "12499/12499 [==============================] - 596s 48ms/step - loss: 0.3037 - acc: 0.9222 - val_loss: 0.3420 - val_acc: 0.9162\n",
      "Epoch 6/10\n",
      "12499/12499 [==============================] - 595s 48ms/step - loss: 0.2879 - acc: 0.9260 - val_loss: 0.3457 - val_acc: 0.9164\n",
      "Epoch 7/10\n",
      "12499/12499 [==============================] - 596s 48ms/step - loss: 0.2772 - acc: 0.9279 - val_loss: 0.3462 - val_acc: 0.9164\n",
      "######### 2번째 fold ########\n",
      "Epoch 1/10\n",
      "12499/12499 [==============================] - 607s 48ms/step - loss: 0.7390 - acc: 0.8236 - val_loss: 0.4151 - val_acc: 0.8990\n",
      "Epoch 2/10\n",
      "12499/12499 [==============================] - 600s 48ms/step - loss: 0.4251 - acc: 0.8967 - val_loss: 0.3610 - val_acc: 0.9096\n",
      "Epoch 3/10\n",
      "12499/12499 [==============================] - 601s 48ms/step - loss: 0.3661 - acc: 0.9096 - val_loss: 0.3430 - val_acc: 0.9141\n",
      "Epoch 4/10\n",
      "12499/12499 [==============================] - 597s 48ms/step - loss: 0.3318 - acc: 0.9171 - val_loss: 0.3356 - val_acc: 0.9159\n",
      "Epoch 5/10\n",
      "12499/12499 [==============================] - 597s 48ms/step - loss: 0.3082 - acc: 0.9221 - val_loss: 0.3409 - val_acc: 0.9171\n",
      "Epoch 6/10\n",
      "12499/12499 [==============================] - 599s 48ms/step - loss: 0.2927 - acc: 0.9255 - val_loss: 0.3336 - val_acc: 0.9173\n",
      "Epoch 7/10\n",
      "12499/12499 [==============================] - 603s 48ms/step - loss: 0.2818 - acc: 0.9276 - val_loss: 0.3487 - val_acc: 0.9179\n",
      "Epoch 8/10\n",
      "12499/12499 [==============================] - 605s 48ms/step - loss: 0.2740 - acc: 0.9292 - val_loss: 0.3440 - val_acc: 0.9179\n",
      "######### 3번째 fold ########\n",
      "Epoch 1/10\n",
      "12499/12499 [==============================] - 610s 48ms/step - loss: 0.6778 - acc: 0.8386 - val_loss: 0.4064 - val_acc: 0.8986\n",
      "Epoch 2/10\n",
      "12499/12499 [==============================] - 605s 48ms/step - loss: 0.4131 - acc: 0.8986 - val_loss: 0.3621 - val_acc: 0.9100\n",
      "Epoch 3/10\n",
      "12499/12499 [==============================] - 600s 48ms/step - loss: 0.3588 - acc: 0.9104 - val_loss: 0.3433 - val_acc: 0.9135\n",
      "Epoch 4/10\n",
      "12499/12499 [==============================] - 599s 48ms/step - loss: 0.3253 - acc: 0.9175 - val_loss: 0.3427 - val_acc: 0.9150\n",
      "Epoch 5/10\n",
      "12499/12499 [==============================] - 598s 48ms/step - loss: 0.3042 - acc: 0.9225 - val_loss: 0.3407 - val_acc: 0.9165\n",
      "Epoch 6/10\n",
      "12499/12499 [==============================] - 598s 48ms/step - loss: 0.2901 - acc: 0.9252 - val_loss: 0.3448 - val_acc: 0.9176\n",
      "Epoch 7/10\n",
      "12499/12499 [==============================] - 598s 48ms/step - loss: 0.2797 - acc: 0.9277 - val_loss: 0.3387 - val_acc: 0.9177\n",
      "######### 4번째 fold ########\n",
      "Epoch 1/10\n",
      "12499/12499 [==============================] - 608s 48ms/step - loss: 0.6493 - acc: 0.8446 - val_loss: 0.3912 - val_acc: 0.9025\n",
      "Epoch 2/10\n",
      "12499/12499 [==============================] - 598s 48ms/step - loss: 0.4016 - acc: 0.9014 - val_loss: 0.3586 - val_acc: 0.9115\n",
      "Epoch 3/10\n",
      "12499/12499 [==============================] - 598s 48ms/step - loss: 0.3510 - acc: 0.9122 - val_loss: 0.3459 - val_acc: 0.9140\n",
      "Epoch 4/10\n",
      "12499/12499 [==============================] - 598s 48ms/step - loss: 0.3195 - acc: 0.9190 - val_loss: 0.3386 - val_acc: 0.9164\n",
      "Epoch 5/10\n",
      "12499/12499 [==============================] - 598s 48ms/step - loss: 0.2983 - acc: 0.9236 - val_loss: 0.3370 - val_acc: 0.9172\n",
      "Epoch 6/10\n",
      "12499/12499 [==============================] - 598s 48ms/step - loss: 0.2825 - acc: 0.9265 - val_loss: 0.3405 - val_acc: 0.9178\n",
      "Epoch 7/10\n",
      "12499/12499 [==============================] - 598s 48ms/step - loss: 0.2725 - acc: 0.9291 - val_loss: 0.3456 - val_acc: 0.9173\n",
      "######### 5번째 fold ########\n",
      "Epoch 1/10\n",
      "12499/12499 [==============================] - 609s 48ms/step - loss: 0.8248 - acc: 0.8034 - val_loss: 0.4396 - val_acc: 0.8946\n",
      "Epoch 2/10\n",
      "12499/12499 [==============================] - 602s 48ms/step - loss: 0.4422 - acc: 0.8946 - val_loss: 0.3824 - val_acc: 0.9077\n",
      "Epoch 3/10\n",
      "12499/12499 [==============================] - 599s 48ms/step - loss: 0.3758 - acc: 0.9089 - val_loss: 0.3589 - val_acc: 0.9134\n",
      "Epoch 4/10\n",
      "12499/12499 [==============================] - 598s 48ms/step - loss: 0.3401 - acc: 0.9162 - val_loss: 0.3571 - val_acc: 0.9144\n",
      "Epoch 5/10\n",
      "12499/12499 [==============================] - 598s 48ms/step - loss: 0.3151 - acc: 0.9217 - val_loss: 0.3529 - val_acc: 0.9163\n",
      "Epoch 6/10\n",
      "12499/12499 [==============================] - 596s 48ms/step - loss: 0.2995 - acc: 0.9248 - val_loss: 0.3599 - val_acc: 0.9162\n"
     ]
    }
   ],
   "source": [
    "skf = StratifiedKFold(n_splits=5, shuffle=True, random_state=SEED_NUM)\n",
    "\n",
    "models = []\n",
    "k = 0\n",
    "for train_idx, valid_idx in skf.split(X_train, y_train.argmax(1)):\n",
    "    k += 1 #k번째 fold\n",
    "    print('######### {}번째 fold ########'.format(k))\n",
    "    # overfitting을 막기 위한 ealrystop 추가\n",
    "    earlystop_callback = EarlyStopping(monitor='val_acc', min_delta=0.0001, patience=1)\n",
    "    # min_delta: the threshold that triggers the termination (acc should at least improve 0.0001)\n",
    "  \n",
    "\n",
    "        \n",
    "    #모델 생성\n",
    "    model = RNNClassifier(**kargs)  \n",
    "    model.compile(optimizer='adam', loss='categorical_crossentropy', metrics=['acc'])\n",
    "    with tf.device('/device:GPU:0'):\n",
    "        history = model.fit(X_train[train_idx], y_train[train_idx], batch_size=BATCH_SIZE, epochs=NUM_EPOCHS,\n",
    "                        validation_data=(X_train[valid_idx], y_train[valid_idx]), callbacks=[earlystop_callback])\n",
    "        \n",
    "    model.save_weights('{}fold_model.h5'.format(k))\n",
    "        \n",
    "    models.append(model)\n"
   ]
  },
  {
   "cell_type": "markdown",
   "metadata": {
    "id": "QaHkI-57KXEG"
   },
   "source": [
    "* 예측"
   ]
  },
  {
   "cell_type": "code",
   "execution_count": null,
   "metadata": {
    "colab": {
     "base_uri": "https://localhost:8080/"
    },
    "id": "7RJbG7jYJ8fo",
    "outputId": "cbccdc08-9c95-4095-c62d-e97eecbdfd16"
   },
   "outputs": [
    {
     "name": "stderr",
     "output_type": "stream",
     "text": [
      "100%|██████████| 5/5 [02:02<00:00, 24.56s/it]\n"
     ]
    }
   ],
   "source": [
    "prediction = np.zeros((100000, 225))\n",
    "\n",
    "for m in tqdm(models):\n",
    "    with tf.device('/device:GPU:0'):\n",
    "        pred = np.array(m.predict(X_test, batch_size = BATCH_SIZE))\n",
    "        prediction += pred\n",
    "prediction /= 5\n",
    "\n",
    "y_test = []\n",
    "for i in range(len(prediction)):\n",
    "    y_test.append(np.argmax(prediction[i]))\n",
    "\n",
    "y_test = le.inverse_transform(y_test)\n",
    "\n",
    "test['label'] = y_test"
   ]
  },
  {
   "cell_type": "code",
   "execution_count": null,
   "metadata": {
    "id": "oaDecm8rCb5B"
   },
   "outputs": [],
   "source": [
    "test[['digit_1', 'digit_2', 'digit_3']] = test['label'].str.split(' ', expand = True)"
   ]
  },
  {
   "cell_type": "code",
   "execution_count": null,
   "metadata": {
    "colab": {
     "base_uri": "https://localhost:8080/",
     "height": 455
    },
    "id": "3sBeddg6HHCU",
    "outputId": "25dc46d9-998d-4c30-842e-0f984191c81f"
   },
   "outputs": [
    {
     "data": {
      "text/html": [
       "\n",
       "  <div id=\"df-27a72ef6-a5eb-495b-a0aa-90ac989c059c\">\n",
       "    <div class=\"colab-df-container\">\n",
       "      <div>\n",
       "<style scoped>\n",
       "    .dataframe tbody tr th:only-of-type {\n",
       "        vertical-align: middle;\n",
       "    }\n",
       "\n",
       "    .dataframe tbody tr th {\n",
       "        vertical-align: top;\n",
       "    }\n",
       "\n",
       "    .dataframe thead th {\n",
       "        text-align: right;\n",
       "    }\n",
       "</style>\n",
       "<table border=\"1\" class=\"dataframe\">\n",
       "  <thead>\n",
       "    <tr style=\"text-align: right;\">\n",
       "      <th></th>\n",
       "      <th>digit_1</th>\n",
       "      <th>digit_2</th>\n",
       "      <th>digit_3</th>\n",
       "      <th>text_obj</th>\n",
       "      <th>text_mthd</th>\n",
       "      <th>text_deal</th>\n",
       "      <th>text</th>\n",
       "      <th>label</th>\n",
       "    </tr>\n",
       "    <tr>\n",
       "      <th>AI_id</th>\n",
       "      <th></th>\n",
       "      <th></th>\n",
       "      <th></th>\n",
       "      <th></th>\n",
       "      <th></th>\n",
       "      <th></th>\n",
       "      <th></th>\n",
       "      <th></th>\n",
       "    </tr>\n",
       "  </thead>\n",
       "  <tbody>\n",
       "    <tr>\n",
       "      <th>id_000001</th>\n",
       "      <td>I</td>\n",
       "      <td>56</td>\n",
       "      <td>561</td>\n",
       "      <td>치킨전문점에서</td>\n",
       "      <td>고객의주문에의해</td>\n",
       "      <td>치킨판매</td>\n",
       "      <td>치킨 전문점 고객 주문 판매</td>\n",
       "      <td>I 56 561</td>\n",
       "    </tr>\n",
       "    <tr>\n",
       "      <th>id_000002</th>\n",
       "      <td>G</td>\n",
       "      <td>46</td>\n",
       "      <td>466</td>\n",
       "      <td>산업공구</td>\n",
       "      <td>다른 소매업자에게</td>\n",
       "      <td>철물 수공구</td>\n",
       "      <td>산업 공구 소매업자 철물 수공구</td>\n",
       "      <td>G 46 466</td>\n",
       "    </tr>\n",
       "    <tr>\n",
       "      <th>id_000003</th>\n",
       "      <td>S</td>\n",
       "      <td>94</td>\n",
       "      <td>949</td>\n",
       "      <td>절에서</td>\n",
       "      <td>신도을 대상으로</td>\n",
       "      <td>불교단체운영</td>\n",
       "      <td>절 신도 대상 불교 단체 운영</td>\n",
       "      <td>S 94 949</td>\n",
       "    </tr>\n",
       "    <tr>\n",
       "      <th>id_000004</th>\n",
       "      <td>C</td>\n",
       "      <td>30</td>\n",
       "      <td>302</td>\n",
       "      <td>영업장에서</td>\n",
       "      <td>고객요구로</td>\n",
       "      <td>자동차튜닝</td>\n",
       "      <td>영업장 고객 요구 자동차 튜닝</td>\n",
       "      <td>C 30 302</td>\n",
       "    </tr>\n",
       "    <tr>\n",
       "      <th>id_000005</th>\n",
       "      <td>I</td>\n",
       "      <td>56</td>\n",
       "      <td>562</td>\n",
       "      <td>실내포장마차에서</td>\n",
       "      <td>접객시설을 갖추고</td>\n",
       "      <td>소주,맥주제공</td>\n",
       "      <td>실내 포장마차 접객 시설 소주 맥주 제공</td>\n",
       "      <td>I 56 562</td>\n",
       "    </tr>\n",
       "    <tr>\n",
       "      <th>...</th>\n",
       "      <td>...</td>\n",
       "      <td>...</td>\n",
       "      <td>...</td>\n",
       "      <td>...</td>\n",
       "      <td>...</td>\n",
       "      <td>...</td>\n",
       "      <td>...</td>\n",
       "      <td>...</td>\n",
       "    </tr>\n",
       "    <tr>\n",
       "      <th>id_099996</th>\n",
       "      <td>G</td>\n",
       "      <td>47</td>\n",
       "      <td>472</td>\n",
       "      <td>사업장에서</td>\n",
       "      <td>일반인대상으로</td>\n",
       "      <td>버섯농장</td>\n",
       "      <td>사업장 일반 대상 버섯 농장</td>\n",
       "      <td>G 47 472</td>\n",
       "    </tr>\n",
       "    <tr>\n",
       "      <th>id_099997</th>\n",
       "      <td>Q</td>\n",
       "      <td>86</td>\n",
       "      <td>862</td>\n",
       "      <td>한의원에서</td>\n",
       "      <td>외래환자위주고</td>\n",
       "      <td>치료</td>\n",
       "      <td>의원 외래 환자 위주 치료</td>\n",
       "      <td>Q 86 862</td>\n",
       "    </tr>\n",
       "    <tr>\n",
       "      <th>id_099998</th>\n",
       "      <td>G</td>\n",
       "      <td>47</td>\n",
       "      <td>478</td>\n",
       "      <td>일반점포에서</td>\n",
       "      <td>소비자에게</td>\n",
       "      <td>그림판매</td>\n",
       "      <td>일반 점포 소비자 그림 판매</td>\n",
       "      <td>G 47 478</td>\n",
       "    </tr>\n",
       "    <tr>\n",
       "      <th>id_099999</th>\n",
       "      <td>R</td>\n",
       "      <td>90</td>\n",
       "      <td>902</td>\n",
       "      <td>사업장에서</td>\n",
       "      <td>일반인.학생대상으로</td>\n",
       "      <td>학습공간제공</td>\n",
       "      <td>사업장 일반 학생 대상 학습 공간 제공</td>\n",
       "      <td>R 90 902</td>\n",
       "    </tr>\n",
       "    <tr>\n",
       "      <th>id_100000</th>\n",
       "      <td>L</td>\n",
       "      <td>68</td>\n",
       "      <td>682</td>\n",
       "      <td>사업장에서</td>\n",
       "      <td>대리현대아파트를</td>\n",
       "      <td>관리</td>\n",
       "      <td>사업장 대리 현대 아파트 관리</td>\n",
       "      <td>L 68 682</td>\n",
       "    </tr>\n",
       "  </tbody>\n",
       "</table>\n",
       "<p>100000 rows × 8 columns</p>\n",
       "</div>\n",
       "      <button class=\"colab-df-convert\" onclick=\"convertToInteractive('df-27a72ef6-a5eb-495b-a0aa-90ac989c059c')\"\n",
       "              title=\"Convert this dataframe to an interactive table.\"\n",
       "              style=\"display:none;\">\n",
       "        \n",
       "  <svg xmlns=\"http://www.w3.org/2000/svg\" height=\"24px\"viewBox=\"0 0 24 24\"\n",
       "       width=\"24px\">\n",
       "    <path d=\"M0 0h24v24H0V0z\" fill=\"none\"/>\n",
       "    <path d=\"M18.56 5.44l.94 2.06.94-2.06 2.06-.94-2.06-.94-.94-2.06-.94 2.06-2.06.94zm-11 1L8.5 8.5l.94-2.06 2.06-.94-2.06-.94L8.5 2.5l-.94 2.06-2.06.94zm10 10l.94 2.06.94-2.06 2.06-.94-2.06-.94-.94-2.06-.94 2.06-2.06.94z\"/><path d=\"M17.41 7.96l-1.37-1.37c-.4-.4-.92-.59-1.43-.59-.52 0-1.04.2-1.43.59L10.3 9.45l-7.72 7.72c-.78.78-.78 2.05 0 2.83L4 21.41c.39.39.9.59 1.41.59.51 0 1.02-.2 1.41-.59l7.78-7.78 2.81-2.81c.8-.78.8-2.07 0-2.86zM5.41 20L4 18.59l7.72-7.72 1.47 1.35L5.41 20z\"/>\n",
       "  </svg>\n",
       "      </button>\n",
       "      \n",
       "  <style>\n",
       "    .colab-df-container {\n",
       "      display:flex;\n",
       "      flex-wrap:wrap;\n",
       "      gap: 12px;\n",
       "    }\n",
       "\n",
       "    .colab-df-convert {\n",
       "      background-color: #E8F0FE;\n",
       "      border: none;\n",
       "      border-radius: 50%;\n",
       "      cursor: pointer;\n",
       "      display: none;\n",
       "      fill: #1967D2;\n",
       "      height: 32px;\n",
       "      padding: 0 0 0 0;\n",
       "      width: 32px;\n",
       "    }\n",
       "\n",
       "    .colab-df-convert:hover {\n",
       "      background-color: #E2EBFA;\n",
       "      box-shadow: 0px 1px 2px rgba(60, 64, 67, 0.3), 0px 1px 3px 1px rgba(60, 64, 67, 0.15);\n",
       "      fill: #174EA6;\n",
       "    }\n",
       "\n",
       "    [theme=dark] .colab-df-convert {\n",
       "      background-color: #3B4455;\n",
       "      fill: #D2E3FC;\n",
       "    }\n",
       "\n",
       "    [theme=dark] .colab-df-convert:hover {\n",
       "      background-color: #434B5C;\n",
       "      box-shadow: 0px 1px 3px 1px rgba(0, 0, 0, 0.15);\n",
       "      filter: drop-shadow(0px 1px 2px rgba(0, 0, 0, 0.3));\n",
       "      fill: #FFFFFF;\n",
       "    }\n",
       "  </style>\n",
       "\n",
       "      <script>\n",
       "        const buttonEl =\n",
       "          document.querySelector('#df-27a72ef6-a5eb-495b-a0aa-90ac989c059c button.colab-df-convert');\n",
       "        buttonEl.style.display =\n",
       "          google.colab.kernel.accessAllowed ? 'block' : 'none';\n",
       "\n",
       "        async function convertToInteractive(key) {\n",
       "          const element = document.querySelector('#df-27a72ef6-a5eb-495b-a0aa-90ac989c059c');\n",
       "          const dataTable =\n",
       "            await google.colab.kernel.invokeFunction('convertToInteractive',\n",
       "                                                     [key], {});\n",
       "          if (!dataTable) return;\n",
       "\n",
       "          const docLinkHtml = 'Like what you see? Visit the ' +\n",
       "            '<a target=\"_blank\" href=https://colab.research.google.com/notebooks/data_table.ipynb>data table notebook</a>'\n",
       "            + ' to learn more about interactive tables.';\n",
       "          element.innerHTML = '';\n",
       "          dataTable['output_type'] = 'display_data';\n",
       "          await google.colab.output.renderOutput(dataTable, element);\n",
       "          const docLink = document.createElement('div');\n",
       "          docLink.innerHTML = docLinkHtml;\n",
       "          element.appendChild(docLink);\n",
       "        }\n",
       "      </script>\n",
       "    </div>\n",
       "  </div>\n",
       "  "
      ],
      "text/plain": [
       "          digit_1 digit_2 digit_3  text_obj   text_mthd text_deal  \\\n",
       "AI_id                                                               \n",
       "id_000001       I      56     561   치킨전문점에서    고객의주문에의해      치킨판매   \n",
       "id_000002       G      46     466      산업공구   다른 소매업자에게    철물 수공구   \n",
       "id_000003       S      94     949       절에서    신도을 대상으로    불교단체운영   \n",
       "id_000004       C      30     302     영업장에서       고객요구로     자동차튜닝   \n",
       "id_000005       I      56     562  실내포장마차에서   접객시설을 갖추고   소주,맥주제공   \n",
       "...           ...     ...     ...       ...         ...       ...   \n",
       "id_099996       G      47     472     사업장에서     일반인대상으로      버섯농장   \n",
       "id_099997       Q      86     862     한의원에서     외래환자위주고        치료   \n",
       "id_099998       G      47     478    일반점포에서       소비자에게      그림판매   \n",
       "id_099999       R      90     902     사업장에서  일반인.학생대상으로    학습공간제공   \n",
       "id_100000       L      68     682     사업장에서    대리현대아파트를        관리   \n",
       "\n",
       "                             text     label  \n",
       "AI_id                                        \n",
       "id_000001         치킨 전문점 고객 주문 판매  I 56 561  \n",
       "id_000002       산업 공구 소매업자 철물 수공구  G 46 466  \n",
       "id_000003        절 신도 대상 불교 단체 운영  S 94 949  \n",
       "id_000004        영업장 고객 요구 자동차 튜닝  C 30 302  \n",
       "id_000005  실내 포장마차 접객 시설 소주 맥주 제공  I 56 562  \n",
       "...                           ...       ...  \n",
       "id_099996         사업장 일반 대상 버섯 농장  G 47 472  \n",
       "id_099997          의원 외래 환자 위주 치료  Q 86 862  \n",
       "id_099998         일반 점포 소비자 그림 판매  G 47 478  \n",
       "id_099999   사업장 일반 학생 대상 학습 공간 제공  R 90 902  \n",
       "id_100000        사업장 대리 현대 아파트 관리  L 68 682  \n",
       "\n",
       "[100000 rows x 8 columns]"
      ]
     },
     "execution_count": 29,
     "metadata": {},
     "output_type": "execute_result"
    }
   ],
   "source": [
    "test"
   ]
  },
  {
   "cell_type": "code",
   "execution_count": null,
   "metadata": {
    "id": "22QjdJKTM06H"
   },
   "outputs": [],
   "source": [
    "test.to_csv(PATH + 'result/0413_Bilstm_5fold.csv')"
   ]
  }
 ],
 "metadata": {
  "accelerator": "GPU",
  "colab": {
   "collapsed_sections": [],
   "machine_shape": "hm",
   "name": "Copy of 동동성_코드제출",
   "provenance": []
  },
  "kernelspec": {
   "display_name": "Python 3.9.12 ('base')",
   "language": "python",
   "name": "python3"
  },
  "language_info": {
   "codemirror_mode": {
    "name": "ipython",
    "version": 3
   },
   "file_extension": ".py",
   "mimetype": "text/x-python",
   "name": "python",
   "nbconvert_exporter": "python",
   "pygments_lexer": "ipython3",
   "version": "3.9.12"
  },
  "vscode": {
   "interpreter": {
    "hash": "5fa17995b951f2d30960f1ff4f7dfc17465de279e5e417c1de77224eb6e4ccb3"
   }
  }
 },
 "nbformat": 4,
 "nbformat_minor": 1
}
